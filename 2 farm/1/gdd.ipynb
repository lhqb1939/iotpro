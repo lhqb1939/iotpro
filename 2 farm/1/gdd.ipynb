{
 "cells": [
  {
   "cell_type": "markdown",
   "id": "6d22d755",
   "metadata": {},
   "source": [
    "# GDD Calculation Notebook\n",
    "This notebook visualizes temperature data and calculates Growing Degree Days (GDD)."
   ]
  },
  {
   "cell_type": "code",
   "execution_count": null,
   "id": "1f6c8e23",
   "metadata": {},
   "outputs": [],
   "source": [
    "import pandas as pd\n",
    "import matplotlib.pyplot as plt"
   ]
  },
  {
   "cell_type": "markdown",
   "id": "d948eb36",
   "metadata": {},
   "source": [
    "## Load Temperature Data"
   ]
  },
  {
   "cell_type": "code",
   "execution_count": null,
   "id": "5fee77ca",
   "metadata": {},
   "outputs": [],
   "source": [
    "df = pd.read_csv('temperature.csv')\n",
    "df['timestamp'] = pd.to_datetime(df['timestamp'])\n",
    "df.head()"
   ]
  },
  {
   "cell_type": "markdown",
   "id": "543a4382",
   "metadata": {},
   "source": [
    "## Plot Temperature Data"
   ]
  },
  {
   "cell_type": "code",
   "execution_count": null,
   "id": "92dd2707",
   "metadata": {},
   "outputs": [],
   "source": [
    "\n",
    "plt.figure(figsize=(12,5))\n",
    "plt.plot(df['timestamp'], df['temperature_C'], marker='o', linestyle='-')\n",
    "plt.title(\"Temperature Over Time\")\n",
    "plt.xlabel(\"Time\")\n",
    "plt.ylabel(\"Temperature (°C)\")\n",
    "plt.grid(True)\n",
    "plt.xticks(rotation=45)\n",
    "plt.tight_layout()\n",
    "plt.show()\n"
   ]
  },
  {
   "cell_type": "markdown",
   "id": "4f72ac2a",
   "metadata": {},
   "source": [
    "## Calculate Growing Degree Days (GDD)\n",
    "Set a base temperature. Only temperatures above this count toward GDD."
   ]
  },
  {
   "cell_type": "code",
   "execution_count": null,
   "id": "e5b51dc9",
   "metadata": {},
   "outputs": [],
   "source": [
    "base_temp = 10  # You can change this value\n",
    "\n",
    "df['GDD'] = df['temperature_C'] - base_temp\n",
    "df['GDD'] = df['GDD'].apply(lambda x: x if x > 0 else 0)\n",
    "df.head()"
   ]
  },
  {
   "cell_type": "markdown",
   "id": "90fb0516",
   "metadata": {},
   "source": [
    "## Total GDD over the Period"
   ]
  },
  {
   "cell_type": "code",
   "execution_count": null,
   "id": "911f0f63",
   "metadata": {},
   "outputs": [],
   "source": [
    "total_gdd = df['GDD'].sum()\n",
    "print(f'Total GDD over the data period: {total_gdd:.2f}')"
   ]
  }
 ],
 "metadata": {},
 "nbformat": 4,
 "nbformat_minor": 5
}
